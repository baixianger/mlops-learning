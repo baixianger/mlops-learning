{
 "cells": [
  {
   "cell_type": "markdown",
   "metadata": {},
   "source": [
    "# Neural networks with PyTorch\n",
    "\n",
    "Deep learning networks tend to be massive with dozens or hundreds of layers, that's where the term \"deep\" comes from. You can build one of these deep networks using only weight matrices as we did in the previous notebook, but in general it's very cumbersome and difficult to implement. PyTorch has a nice module `nn` that provides a nice way to efficiently build large neural networks."
   ]
  },
  {
   "cell_type": "code",
   "execution_count": 2,
   "metadata": {
    "collapsed": true
   },
   "outputs": [],
   "source": [
    "# Import necessary packages\n",
    "\n",
    "%matplotlib inline\n",
    "%config InlineBackend.figure_format = 'retina'\n",
    "\n",
    "import numpy as np\n",
    "import torch\n",
    "\n",
    "import helper\n",
    "\n",
    "import matplotlib.pyplot as plt"
   ]
  },
  {
   "cell_type": "markdown",
   "metadata": {},
   "source": [
    "\n",
    "Now we're going to build a larger network that can solve a (formerly) difficult problem, identifying text in an image. Here we'll use the MNIST dataset which consists of greyscale handwritten digits. Each image is 28x28 pixels, you can see a sample below\n",
    "\n",
    "<img src='assets/mnist.png'>\n",
    "\n",
    "Our goal is to build a neural network that can take one of these images and predict the digit in the image.\n",
    "\n",
    "First up, we need to get our dataset. This is provided through the `torchvision` package. The code below will download the MNIST dataset, then create training and test datasets for us. Don't worry too much about the details here, you'll learn more about this later."
   ]
  },
  {
   "cell_type": "code",
   "execution_count": 3,
   "metadata": {
    "collapsed": true
   },
   "outputs": [
    {
     "name": "stderr",
     "output_type": "stream",
     "text": [
      "/opt/miniconda3/envs/course02456/lib/python3.8/site-packages/torchvision/datasets/mnist.py:498: UserWarning: The given NumPy array is not writeable, and PyTorch does not support non-writeable tensors. This means you can write to the underlying (supposedly non-writeable) NumPy array using the tensor. You may want to copy the array to protect its data or make it writeable before converting it to a tensor. This type of warning will be suppressed for the rest of this program. (Triggered internally at  ../torch/csrc/utils/tensor_numpy.cpp:180.)\n",
      "  return torch.from_numpy(parsed.astype(m[2], copy=False)).view(*s)\n"
     ]
    }
   ],
   "source": [
    "### Run this cell\n",
    "\n",
    "from torchvision import datasets, transforms\n",
    "\n",
    "# Define a transform to normalize the data\n",
    "transform = transforms.Compose([transforms.ToTensor(),\n",
    "                              transforms.Normalize((0.5,), (0.5,)),\n",
    "                              ])\n",
    "\n",
    "# Download and load the training data\n",
    "trainset = datasets.MNIST('~/.pytorch/MNIST_data/', download=True, train=True, transform=transform)\n",
    "trainloader = torch.utils.data.DataLoader(trainset, batch_size=64, shuffle=True)"
   ]
  },
  {
   "cell_type": "markdown",
   "metadata": {},
   "source": [
    "We have the training data loaded into `trainloader` and we make that an iterator with `iter(trainloader)`. Later, we'll use this to loop through the dataset for training, like\n",
    "\n",
    "```python\n",
    "for image, label in trainloader:\n",
    "    ## do things with images and labels\n",
    "```\n",
    "\n",
    "You'll notice I created the `trainloader` with a batch size of 64, and `shuffle=True`. The batch size is the number of images we get in one iteration from the data loader and pass through our network, often called a *batch*. And `shuffle=True` tells it to shuffle the dataset every time we start going through the data loader again. But here I'm just grabbing the first batch so we can check out the data. We can see below that `images` is just a tensor with size `(64, 1, 28, 28)`. So, 64 images per batch, 1 color channel, and 28x28 images."
   ]
  },
  {
   "cell_type": "code",
   "execution_count": 4,
   "metadata": {},
   "outputs": [
    {
     "name": "stdout",
     "output_type": "stream",
     "text": [
      "<class 'torch.Tensor'>\n",
      "torch.Size([64, 1, 28, 28])\n",
      "torch.Size([64])\n"
     ]
    }
   ],
   "source": [
    "dataiter = iter(trainloader)\n",
    "images, labels = dataiter.next()\n",
    "print(type(images))\n",
    "print(images.shape)\n",
    "print(labels.shape)"
   ]
  },
  {
   "cell_type": "markdown",
   "metadata": {},
   "source": [
    "This is what one of the images looks like. "
   ]
  },
  {
   "cell_type": "code",
   "execution_count": 5,
   "metadata": {},
   "outputs": [
    {
     "data": {
<<<<<<< Updated upstream
      "image/png": "iVBORw0KGgoAAAANSUhEUgAAAfcAAAHwCAYAAAC7cCafAAAABHNCSVQICAgIfAhkiAAAAAlwSFlzAAAWJQAAFiUBSVIk8AAAADh0RVh0U29mdHdhcmUAbWF0cGxvdGxpYiB2ZXJzaW9uMy4xLjMsIGh0dHA6Ly9tYXRwbG90bGliLm9yZy+AADFEAAAbp0lEQVR4nO3df6xmdX0n8PenMwpCCyIpJY3KiC2QUNAFWhWyOAzRlTZVrLAx6Q9itKldI6KybdNqd2y7iU026w/c1aa2JZVUWjG16YriRkDQ0RrGUJZUAQsjmmIRURhAqYPf/eM5006v987MfZ5n7rn3+7xeyZPvfb7nfJ/zmcPhvu85z/lRrbUAAP34obELAADmS7gDQGeEOwB0RrgDQGeEOwB0RrgDQGeEOwB0RrgDQGeEOwB0RrgDQGeEOwB0RrgDQGc2j13AoVBV9yQ5KsmukUsBgGltSfJwa+1Zqx3YZbhnEuxPG14AsFB6PSy/a+wCAGAOdk0zaNRwr6qnV9WfVtU/VdXjVbWrqt5ZVceMWRcAbGSjHZavqmcn2ZHkuCR/k+RLSX4myRuSvKSqzmmtfXOs+gBgoxpzz/1/ZxLsl7bWLmyt/VZrbVuSdyQ5Ocl/H7E2ANiwqrW29gutOjHJP2byXcKzW2vf32fajyS5L0klOa619ugUn78zyRnzqRYARvOF1tqZqx001mH5bUP7iX2DPUlaa7ur6jNJXpzk+Uk+udKHDCG+nFPmUiUAbEBjHZY/eWjvXGH6XUN70hrUAgBdGWvP/eihfWiF6Xv7n7q/D1npUIXD8gAssvV6nXsN7dqfEAAAG9xY4b53z/zoFaYftWQ+AOAgjRXudwztSt+p/+TQrvSdPACwgrHC/YahfXFV/bsahkvhzknynSSfW+vCAGCjGyXcW2v/mOQTmTzx5nVLJr8tyZFJ/nyaa9wBYNGN+VS4/5LJ7WffXVXnJ/likuclOS+Tw/G/M2JtALBhjXa2/LD3flaSKzMJ9TcneXaSdyd5gfvKA8B0Rn2ee2vtq0leNWYNANCb9XqdOwAwJeEOAJ0R7gDQGeEOAJ0R7gDQGeEOAJ0R7gDQGeEOAJ0R7gDQGeEOAJ0R7gDQGeEOAJ0R7gDQGeEOAJ0R7gDQGeEOAJ0R7gDQGeEOAJ0R7gDQGeEOAJ0R7gDQGeEOAJ0R7gDQGeEOAJ0R7gDQGeEOAJ0R7gDQGeEOAJ0R7gDQGeEOAJ0R7gDQGeEOAJ0R7gDQGeEOAJ0R7gDQGeEOAJ0R7gDQGeEOAJ0R7gDQGeEOAJ0R7gDQGeEOAJ0R7gDQGeEOAJ0R7gDQGeEOAJ0R7gDQGeEOAJ0R7gDQGeEOAJ0R7gDQGeEOAJ0R7gDQGeEOAJ0R7gDQGeEOAJ0R7gDQGeEOAJ0R7gDQGeEOAJ0R7gDQmc1jFwAspmOPPXam8bfccsvUY7ds2TLTsu+4446px55yyikzLRsOxmh77lW1q6raCq+vj1UXAGx0Y++5P5Tkncv0P7LWhQBAL8YO92+31raPXAMAdMUJdQDQmbH33A+rql9K8swkjya5LclNrbUnxi0LADauscP9+CQfWNJ3T1W9qrX2qQMNrqqdK0xyOioAC2vMw/J/luT8TAL+yCSnJfmjJFuSfKyqnjNeaQCwcY22595ae9uSrtuTvLaqHkny5iTbk7z8AJ9x5nL9wx79GXMoEwA2nPV4Qt37hvbcUasAgA1qPYb7/UN75KhVAMAGtR7D/QVDe/eoVQDABjVKuFfVqVX1tGX6T0jynuHtVWtbFQD0YawT6i5O8ltVdUOSe5LsTvLsJD+X5PAk1yb5HyPVBgAb2ljhfkOSk5P8h0wOwx+Z5NtJPp3Jde8faK21kWoDgA1tlHAfblBzwJvUAOvX0572A9+srcqOHTtmGn/CCSdMPXbWfYe77rprpvFwqK3HE+oAgBkIdwDojHAHgM4IdwDojHAHgM4IdwDojHAHgM4IdwDojHAHgM4IdwDojHAHgM4IdwDojHAHgM4IdwDojHAHgM6M8jx3YOO75ZZbZhq/ZcuW+RQygksvvXTsEmC/7LkDQGeEOwB0RrgDQGeEOwB0RrgDQGeEOwB0RrgDQGeEOwB0RrgDQGeEOwB0RrgDQGeEOwB0RrgDQGeEOwB0xiNfYYFt37596rEnnHDC/ArZYPbs2TN2CbBf9twBoDPCHQA6I9wBoDPCHQA6I9wBoDPCHQA6I9wBoDPCHQA6I9wBoDPCHQA6I9wBoDPCHQA6I9wBoDPCHQA6I9wBoDOe5w4b2GmnnTbT+De96U1Tj22tzbTs66+/fqbxW7dunXrspk2bZlo2rHf23AGgM8IdADoj3AGgM8IdADoj3AGgM8IdADoj3AGgM8IdADoj3AGgM8IdADoj3AGgM8IdADoj3AGgM8IdADrjka8wss2bp//f8Oabb55p2T/8wz889di/+Iu/mGnZn/vc52Yaf/755880Hnpmzx0AOjOXcK+qi6rqiqq6uaoerqpWVVcdYMzZVXVtVT1YVY9V1W1VdVlVbZpHTQCwqOZ1WP4tSZ6T5JEkX0tyyv5mrqqXJflwku8m+cskDyb5+STvSHJOkovnVBcALJx5HZZ/Y5KTkhyV5Nf3N2NVHZXkj5M8kWRra+3VrbX/muS5ST6b5KKqeuWc6gKAhTOXcG+t3dBau6u11g5i9ouS/GiSq1trt+zzGd/N5AhAcoA/EACAlY1xQt22of34MtNuSvJYkrOr6rC1KwkA+jHGpXAnD+2dSye01vZU1T1JTk1yYpIv7u+DqmrnCpP2+50/APRsjD33o4f2oRWm7+1/6hrUAgDdWY83samhPeD39621M5f9gMke/RnzLAoANoox9tz37pkfvcL0o5bMBwCswhjhfsfQnrR0QlVtTvKsJHuS3L2WRQFAL8YI9+uH9iXLTDs3yRFJdrTWHl+7kgCgH2OE+zVJHkjyyqo6a29nVR2e5A+Gt+8doS4A6MJcTqirqguTXDi8PX5oX1BVVw4/P9BauzxJWmsPV9WvZhLyN1bV1ZncfvalmVwmd00mt6QFAKYwr7Pln5vkkiV9Jw6vJPlKksv3TmitfaSqXpjkd5K8IsnhSb6c5E1J3n2Qd7oDAJYxl3BvrW1Psn2VYz6T5GfnsXwY0yzPY0+SD33oQ1OPPeqoow4803585StfmXrs61//+pmW/Yu/+IszjQdW5nnuANAZ4Q4AnRHuANAZ4Q4AnRHuANAZ4Q4AnRHuANAZ4Q4AnRHuANAZ4Q4AnRHuANAZ4Q4AnRHuANAZ4Q4AnZnX89xhYb32ta+dafzLXvayOVWyeq961aumHvutb31rjpUA82TPHQA6I9wBoDPCHQA6I9wBoDPCHQA6I9wBoDPCHQA6I9wBoDPCHQA6I9wBoDPCHQA6I9wBoDPCHQA6I9wBoDPCHQA643nukOSII46Yeuxv/MZvzLGS1bnppptmGv/5z39+TpVsLLfffvtM4++77745VQKHhj13AOiMcAeAzgh3AOiMcAeAzgh3AOiMcAeAzgh3AOiMcAeAzgh3AOiMcAeAzgh3AOiMcAeAzgh3AOiMcAeAznjkK1045phjZhq/Y8eOqcc+/elPn2nZu3fvnnrs1q1bZ1r2mI477riZxj/00ENTjz399NNnWjasd/bcAaAzwh0AOiPcAaAzwh0AOiPcAaAzwh0AOiPcAaAzwh0AOiPcAaAzwh0AOiPcAaAzwh0AOiPcAaAzwh0AOiPcAaAznudOFz74wQ/ONP7kk0+eUyWrt2nTpqnH7tq1a36FrLHjjz9+pvGzrLcLLrhgpmV/7GMfm2k8HGr23AGgM3MJ96q6qKquqKqbq+rhqmpVddUK824Zpq/0unoeNQHAoprXYfm3JHlOkkeSfC3JKQcx5u+TfGSZ/tvnVBMALKR5hfsbMwn1Lyd5YZIbDmLMra217XNaPgAwmEu4t9b+Ncyrah4fCQBMacyz5X+8qn4tybFJvpnks62121bzAVW1c4VJB/O1AAB0acxwf9Hw+ldVdWOSS1pr945SEQB0YIxwfyzJ72dyMt3dQ9/pSbYnOS/JJ6vqua21Rw/0Qa21M5frH/boz5hLtQCwwaz5de6ttftba7/bWvtCa+3bw+umJC9O8ndJfiLJa9a6LgDoxbq5iU1rbU+S9w9vzx2zFgDYyNZNuA++MbRHjloFAGxg6y3cnz+0d+93LgBgRWse7lX1vKp68jL92zK5GU6SLHvrWgDgwOZytnxVXZjkwuHt3kc9vaCqrhx+fqC1dvnw8x8mOXW47O1rQ9/pSbYNP7+1tbZjHnUBwCKa16Vwz01yyZK+E4dXknwlyd5w/0CSlyf56SQXJHlSkn9O8ldJ3tNau3lONQHAQprX7We3Z3Kd+sHM+ydJ/mQey6UvH/rQh6Ye+6IXvejAM61TRxxxxNRjn/nMZ86xko3liSeemHrsk570pDlWAuvPejuhDgCYkXAHgM4IdwDojHAHgM4IdwDojHAHgM4IdwDojHAHgM4IdwDojHAHgM4IdwDojHAHgM4IdwDojHAHgM5Ua23sGuauqnYmOWPsOlidRx99dOqxT3nKU+ZYydq69dZbpx67e/fumZZ91VVXTT12z549My37iiuumGn89773vanHHnPMMTMtG9bQF1prZ652kD13AOiMcAeAzgh3AOiMcAeAzgh3AOiMcAeAzgh3AOiMcAeAzgh3AOiMcAeAzgh3AOiMcAeAzgh3AOiMcAeAzgh3AOiM57mzbjzjGc+Yeuwb3vCGmZZ9yy23TD32uuuum2nZDz/88NRjn3jiiZmWPaY77rhjpvHHHXfc1GM9z50NxPPcAQDhDgDdEe4A0BnhDgCdEe4A0BnhDgCdEe4A0BnhDgCdEe4A0BnhDgCdEe4A0BnhDgCdEe4A0BnhDgCd2Tx2AbDXV7/61anHXn755XOsBGBjs+cOAJ0R7gDQGeEOAJ0R7gDQGeEOAJ0R7gDQGeEOAJ0R7gDQGeEOAJ0R7gDQGeEOAJ0R7gDQGeEOAJ0R7gDQGeEOAJ3xPHdgKqeddtpM40888cSZxj/yyCMzjYeezbznXlXHVtVrquqvq+rLVfWdqnqoqj5dVa+uqmWXUVVnV9W1VfVgVT1WVbdV1WVVtWnWmgBgkc1jz/3iJO9Ncl+SG5Lcm+THkvxCkvcnuaCqLm6ttb0DquplST6c5LtJ/jLJg0l+Psk7kpwzfCYAMIV5hPudSV6a5KOtte/v7ayq307y+SSvyCToPzz0H5Xkj5M8kWRra+2Wof+tSa5PclFVvbK1dvUcagOAhTPzYfnW2vWttb/dN9iH/q8ned/wdus+ky5K8qNJrt4b7MP8303yluHtr89aFwAsqkN9tvz3hnbPPn3bhvbjy8x/U5LHkpxdVYcdysIAoFeH7Gz5qtqc5FeGt/sG+clDe+fSMa21PVV1T5JTk5yY5IsHWMbOFSadsrpqAaAfh3LP/e1JfirJta216/bpP3poH1ph3N7+px6qwgCgZ4dkz72qLk3y5iRfSvLLqx0+tG2/cyVprZ25wvJ3JjljlcsFgC7Mfc+9ql6X5F1J/iHJea21B5fMsnfP/Ogs76gl8wEAqzDXcK+qy5K8J8ntmQT715eZ7Y6hPWmZ8ZuTPCuTE/DunmdtALAo5hbuVfWbmdyE5tZMgv3+FWa9fmhfssy0c5MckWRHa+3xedUGAItkLuE+3IDm7Ul2Jjm/tfbAfma/JskDSV5ZVWft8xmHJ/mD4e1751EXACyimU+oq6pLkvxeJnecuznJpVW1dLZdrbUrk6S19nBV/WomIX9jVV2dye1nX5rJZXLXZHJLWgBgCvM4W/5ZQ7spyWUrzPOpJFfufdNa+0hVvTDJ72Rye9rDk3w5yZuSvHvf+9ADAKszc7i31rYn2T7FuM8k+dlZlw+M48lPfvJM4zdt8gBIOFQO9e1nAYA1JtwBoDPCHQA6I9wBoDPCHQA6I9wBoDPCHQA6I9wBoDPCHQA6I9wBoDPCHQA6I9wBoDPCHQA6I9wBoDPCHQA6M/Pz3AHGcNhhh0099qSTTppp2XfeeedM4+FQs+cOAJ0R7gDQGeEOAJ0R7gDQGeEOAJ0R7gDQGeEOAJ0R7gDQGeEOAJ0R7gDQGeEOAJ0R7gDQGeEOAJ0R7gDQGY98Baaye/fumcY//vjjM40//PDDpx571llnzbRsj3xlvbPnDgCdEe4A0BnhDgCdEe4A0BnhDgCdEe4A0BnhDgCdEe4A0BnhDgCdEe4A0BnhDgCdEe4A0BnhDgCdEe4A0BnhDgCd8Tx3YCqzPtP8uuuum2n8tm3bph770Y9+dKZlw3pnzx0AOiPcAaAzwh0AOiPcAaAzwh0AOiPcAaAzwh0AOiPcAaAzwh0AOiPcAaAzwh0AOiPcAaAzwh0AOiPcAaAz1Vobu4a5q6qdSc4Yuw4AmNEXWmtnrnaQPXcA6MzM4V5Vx1bVa6rqr6vqy1X1nap6qKo+XVWvrqofWjL/lqpq+3ldPWtNALDINs/hMy5O8t4k9yW5Icm9SX4syS8keX+SC6rq4vaDx///PslHlvm82+dQEwAsrHmE+51JXprko6217+/trKrfTvL5JK/IJOg/vGTcra217XNYPgCwj5kPy7fWrm+t/e2+wT70fz3J+4a3W2ddDgBwcOax574/3xvaPctM+/Gq+rUkxyb5ZpLPttZuO8T1AED3Dlm4V9XmJL8yvP34MrO8aHjtO+bGJJe01u49yGXsXGHSKQdZJgB051BeCvf2JD+V5NrW2nX79D+W5PeTnJnkmOH1wkxOxtua5JNVdeQhrAsAunZIbmJTVZcmeVeSLyU5p7X24EGM2Zzk00mel+Sy1tq7Zli+m9gA0IP1cRObqnpdJsH+D0nOO5hgT5LW2p5MLp1LknPnXRcALIq5hntVXZbkPZlcq37ecMb8anxjaB2WB4ApzS3cq+o3k7wjya2ZBPv9U3zM84f27nnVBQCLZi7hXlVvzeQEup1Jzm+tPbCfeZ9XVU9epn9bkjcOb6+aR10AsIhmvhSuqi5J8ntJnkhyc5JLq2rpbLtaa1cOP/9hklOHy96+NvSdnmTb8PNbW2s7Zq0LABbVPK5zf9bQbkpy2QrzfCrJlcPPH0jy8iQ/neSCJE9K8s9J/irJe1prN8+hJgBYWJ7nDgDr1/q4FA4AGJdwB4DOCHcA6IxwB4DOCHcA6IxwB4DOCHcA6IxwB4DOCHcA6IxwB4DOCHcA6IxwB4DOCHcA6IxwB4DOCHcA6IxwB4DOCHcA6IxwB4DOCHcA6IxwB4DOCHcA6IxwB4DOCHcA6IxwB4DOCHcA6IxwB4DOCHcA6IxwB4DOCHcA6Eyv4b5l7AIAYA62TDNo85yLWC8eHtpdK0w/ZWi/dOhL6YZ1Nh3rbTrW2+pZZ9NZz+ttS/4tz1alWmvzLWUDqKqdSdJaO3PsWjYK62w61tt0rLfVs86m0+t66/WwPAAsLOEOAJ0R7gDQGeEOAJ0R7gDQmYU8Wx4AembPHQA6I9wBoDPCHQA6I9wBoDPCHQA6I9wBoDPCHQA6s1DhXlVPr6o/rap/qqrHq2pXVb2zqo4Zu7b1alhHbYXX18eubyxVdVFVXVFVN1fVw8P6uOoAY86uqmur6sGqeqyqbquqy6pq01rVPbbVrLeq2rKfba9V1dVrXf8YqurYqnpNVf11VX25qr5TVQ9V1aer6tVVtezv8UXf3la73nrb3np9nvsPqKpnJ9mR5Lgkf5PJs3t/Jskbkrykqs5prX1zxBLXs4eSvHOZ/kfWupB15C1JnpPJOvha/u2Z0Muqqpcl+XCS7yb5yyQPJvn5JO9Ick6Siw9lsevIqtbb4O+TfGSZ/tvnWNd6dnGS9ya5L8kNSe5N8mNJfiHJ+5NcUFUXt33uSGZ7SzLFehv0sb211hbileS6JC3J65f0/8+h/31j17geX0l2Jdk1dh3r7ZXkvCQ/maSSbB22oatWmPeoJPcneTzJWfv0H57JH5wtySvH/jetw/W2ZZh+5dh1j7zOtmUSzD+0pP/4TAKrJXnFPv22t+nWW1fb20Iclq+qE5O8OJOg+l9LJv+3JI8m+eWqOnKNS2ODaq3d0Fq7qw2/FQ7goiQ/muTq1tot+3zGdzPZk02SXz8EZa47q1xvJGmtXd9a+9vW2veX9H89yfuGt1v3mWR7y1TrrSuLclh+29B+Ypn/0Lur6jOZhP/zk3xyrYvbAA6rql9K8sxM/hC6LclNrbUnxi1rw9i7/X18mWk3JXksydlVdVhr7fG1K2vD+PGq+rUkxyb5ZpLPttZuG7mm9eJ7Q7tnnz7b24Ett9726mJ7W5RwP3lo71xh+l2ZhPtJEe7LOT7JB5b03VNVr2qtfWqMgjaYFbe/1tqeqronyalJTkzyxbUsbIN40fD6V1V1Y5JLWmv3jlLROlBVm5P8yvB23yC3ve3HftbbXl1sbwtxWD7J0UP70ArT9/Y/dQ1q2Wj+LMn5mQT8kUlOS/JHmXw/9bGqes54pW0Ytr/pPJbk95OcmeSY4fXCTE6O2prkkwv+Vdrbk/xUkmtba9ft029727+V1ltX29uihPuB1ND6HnCJ1trbhu+u/rm19lhr7fbW2mszORHxKUm2j1thF2x/y2it3d9a+93W2hdaa98eXjdlcpTt75L8RJLXjFvlOKrq0iRvzuSqn19e7fChXbjtbX/rrbftbVHCfe9fqkevMP2oJfNxYHtPSDl31Co2BtvfHLXW9mRyKVOygNtfVb0uybuS/EOS81prDy6Zxfa2jINYb8vaqNvbooT7HUN70grTf3JoV/pOnh90/9BumMNUI1px+xu+/3tWJif23L2WRW1w3xjahdr+quqyJO/J5Jrr84Yzv5eyvS1xkOttfzbc9rYo4X7D0L54mbsS/UgmN3X4TpLPrXVhG9gLhnZhfkHM4Pqhfcky085NckSSHQt85vI0nj+0C7P9VdVvZnITmlszCaj7V5jV9raPVay3/dlw29tChHtr7R+TfCKTk8Bet2Ty2zL5a+zPW2uPrnFp61pVnVpVT1um/4RM/gpOkv3ecpUkyTVJHkjyyqo6a29nVR2e5A+Gt+8do7D1rKqeV1VPXqZ/W5I3Dm8XYvurqrdmciLYziTnt9Ye2M/strfBatZbb9tbLcq9JJa5/ewXkzwvkztm3Znk7Ob2s/9OVW1P8luZHPm4J8nuJM9O8nOZ3O3q2iQvb639y1g1jqWqLkxy4fD2+CT/KZO/6m8e+h5orV2+ZP5rMrkd6NWZ3A70pZlctnRNkv+8CDd2Wc16Gy4/OjXJjZncqjZJTs+/Xcf91tba3rDqVlVdkuTKJE8kuSLLf1e+q7V25T5jFn57W+166257G/sWeWv5SvKMTC7tui/JvyT5SiYnWDxt7NrW4yuTy0A+mMmZpd/O5MYP30jyfzO5TrTGrnHEdbM9k7ONV3rtWmbMOZn8QfStTL4G+n+Z7BFsGvvfsx7XW5JXJ/k/mdxZ8pFMbqd6byb3Sv+PY/9b1tE6a0lutL3Ntt56294WZs8dABbFQnznDgCLRLgDQGeEOwB0RrgDQGeEOwB0RrgDQGeEOwB0RrgDQGeEOwB0RrgDQGeEOwB0RrgDQGeEOwB0RrgDQGeEOwB0RrgDQGeEOwB05v8D4YB4Abpf2soAAAAASUVORK5CYII=",
=======
      "image/png": "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",
>>>>>>> Stashed changes
      "text/plain": [
       "<Figure size 432x288 with 1 Axes>"
      ]
     },
     "metadata": {
      "image/png": {
       "height": 248,
       "width": 251
      },
      "needs_background": "light"
     },
     "output_type": "display_data"
    }
   ],
   "source": [
    "plt.imshow(images[1].numpy().squeeze(), cmap='Greys');"
   ]
  },
  {
   "cell_type": "markdown",
   "metadata": {},
   "source": [
    "First, let's try to build a simple network for this dataset using weight matrices and matrix multiplications. Then, we'll see how to do it using PyTorch's `nn` module which provides a much more convenient and powerful method for defining network architectures.\n",
    "\n",
    "The networks you've seen so far are called *fully-connected* or *dense* networks. Each unit in one layer is connected to each unit in the next layer. In fully-connected networks, the input to each layer must be a one-dimensional vector (which can be stacked into a 2D tensor as a batch of multiple examples). However, our images are 28x28 2D tensors, so we need to convert them into 1D vectors. Thinking about sizes, we need to convert the batch of images with shape `(64, 1, 28, 28)` to a have a shape of `(64, 784)`, 784 is 28 times 28. This is typically called *flattening*, we flattened the 2D images into 1D vectors.\n",
    "\n",
    "Previously you built a network with one output unit. Here we need 10 output units, one for each digit. We want our network to predict the digit shown in an image, so what we'll do is calculate probabilities that the image is of any one digit or class. This ends up being a discrete probability distribution over the classes (digits) that tells us the most likely class for the image. That means we need 10 output units for the 10 classes (digits). We'll see how to convert the network output into a probability distribution next.\n",
    "\n",
    "> **Exercise:** Flatten the batch of images `images`. Then build a multi-layer network with 784 input units, 256 hidden units, and 10 output units using random tensors for the weights and biases. For now, use a sigmoid activation for the hidden layer. Leave the output layer without an activation, we'll add one that gives us a probability distribution next."
   ]
  },
  {
   "cell_type": "code",
   "execution_count": 6,
   "metadata": {
    "collapsed": true
   },
   "outputs": [],
   "source": [
    "## Your solution   \n",
    "\n",
    "## Activation function\n",
    "def activation(x):\n",
    "    \"\"\" Sigmoid activation function \n",
    "        Arguments\n",
    "        ---------\n",
    "        x: torch.Tensor\n",
    "    \"\"\"\n",
    "    return 1/(1+torch.exp(-x))\n",
    "\n",
    "### Neural network\n",
    "def multi_Layer_NW(inputUnits, hiddenUnits, outputUnits):\n",
    "    torch.manual_seed(7) # Set the random seed so things are predictable\n",
    "\n",
    "    # Define the size of each layer in our network\n",
    "    n_input = inputUnits     # Number of input units, must match number of input features\n",
    "    n_hidden = hiddenUnits   # Number of hidden units \n",
    "    n_output = outputUnits   # Number of output units\n",
    "\n",
    "    # Weights for inputs to hidden layer\n",
    "    W1 = torch.randn(n_input, n_hidden)\n",
    "    # Weights for hidden layer to output layer\n",
    "    W2 = torch.randn(n_hidden, n_output)\n",
    "\n",
    "    # and bias terms for hidden and output layers\n",
    "    B1 = torch.randn((1, n_hidden))\n",
    "    B2 = torch.randn((1, n_output))\n",
    "\n",
    "    return W1,W2,B1,B2\n",
    "\n",
    "def calc_output(features,W1,W2,B1,B2):\n",
    "    h = activation(torch.matmul(features,W1).add_(B1))\n",
    "    output = activation(torch.matmul(h,W2).add_(B2))\n",
    "    return output\n",
    "\n",
    "# Features are flattened batch input\n",
    "features = torch.flatten(images,start_dim=1)\n",
    "W1,W2,B1,B2 = multi_Layer_NW(features.shape[1],256,10)\n",
    "\n",
    "out = calc_output(features,W1,W2,B1,B2) # output of your network, should have shape (64,10)"
   ]
  },
  {
   "cell_type": "markdown",
   "metadata": {},
   "source": [
    "Now we have 10 outputs for our network. We want to pass in an image to our network and get out a probability distribution over the classes that tells us the likely class(es) the image belongs to. Something that looks like this:\n",
    "<img src='assets/image_distribution.png' width=500px>\n",
    "\n",
    "Here we see that the probability for each class is roughly the same. This is representing an untrained network, it hasn't seen any data yet so it just returns a uniform distribution with equal probabilities for each class.\n",
    "\n",
    "To calculate this probability distribution, we often use the [**softmax** function](https://en.wikipedia.org/wiki/Softmax_function). Mathematically this looks like\n",
    "\n",
    "$$\n",
    "\\Large \\sigma(x_i) = \\cfrac{e^{x_i}}{\\sum_k^K{e^{x_k}}}\n",
    "$$\n",
    "\n",
    "What this does is squish each input $x_i$ between 0 and 1 and normalizes the values to give you a proper probability distribution where the probabilites sum up to one.\n",
    "\n",
    "> **Exercise:** Implement a function `softmax` that performs the softmax calculation and returns probability distributions for each example in the batch. Note that you'll need to pay attention to the shapes when doing this. If you have a tensor `a` with shape `(64, 10)` and a tensor `b` with shape `(64,)`, doing `a/b` will give you an error because PyTorch will try to do the division across the columns (called broadcasting) but you'll get a size mismatch. The way to think about this is for each of the 64 examples, you only want to divide by one value, the sum in the denominator. So you need `b` to have a shape of `(64, 1)`. This way PyTorch will divide the 10 values in each row of `a` by the one value in each row of `b`. Pay attention to how you take the sum as well. You'll need to define the `dim` keyword in `torch.sum`. Setting `dim=0` takes the sum across the rows while `dim=1` takes the sum across the columns."
   ]
  },
  {
   "cell_type": "code",
   "execution_count": 7,
   "metadata": {
    "collapsed": true
   },
   "outputs": [
    {
     "name": "stdout",
     "output_type": "stream",
     "text": [
      "torch.Size([64, 10])\n",
      "tensor([0.0162, 0.0152, 0.0135, 0.0153, 0.0143, 0.0161, 0.0137, 0.0147, 0.0181,\n",
      "        0.0198, 0.0150, 0.0157, 0.0161, 0.0157, 0.0133, 0.0163, 0.0172, 0.0158,\n",
      "        0.0157, 0.0161, 0.0151, 0.0156, 0.0167, 0.0176, 0.0149, 0.0134, 0.0167,\n",
      "        0.0144, 0.0165, 0.0166, 0.0171, 0.0166, 0.0138, 0.0138, 0.0160, 0.0152,\n",
      "        0.0161, 0.0164, 0.0166, 0.0161, 0.0137, 0.0183, 0.0163, 0.0166, 0.0150,\n",
      "        0.0174, 0.0180, 0.0153, 0.0122, 0.0154, 0.0120, 0.0159, 0.0159, 0.0147,\n",
      "        0.0133, 0.0150, 0.0166, 0.0176, 0.0148, 0.0147, 0.0175, 0.0145, 0.0141,\n",
      "        0.0164])\n"
     ]
    }
   ],
   "source": [
    "def softmax(x):\n",
    "    ## TODO: Implement the softmax function here\n",
    "\n",
    "# Here, out should be the output of the network in the previous excercise with shape (64,10)\n",
    "probabilities = softmax(out)\n",
    "\n",
    "# Does it have the right shape? Should be (64, 10)\n",
    "print(probabilities.shape)\n",
    "# Does it sum to 1?\n",
    "print(probabilities.sum(dim=1))"
   ]
  },
  {
   "cell_type": "markdown",
   "metadata": {},
   "source": [
    "## Building networks with PyTorch\n",
    "\n",
    "PyTorch provides a module `nn` that makes building networks much simpler. Here I'll show you how to build the same one as above with 784 inputs, 256 hidden units, 10 output units and a softmax output."
   ]
  },
  {
   "cell_type": "code",
   "execution_count": 8,
   "metadata": {
    "collapsed": true
   },
   "outputs": [],
   "source": [
    "from torch import nn"
   ]
  },
  {
   "cell_type": "code",
   "execution_count": 9,
   "metadata": {
    "collapsed": true
   },
   "outputs": [],
   "source": [
    "class Network(nn.Module):\n",
    "    def __init__(self):\n",
    "        super().__init__()\n",
    "        \n",
    "        # Inputs to hidden layer linear transformation\n",
    "        self.hidden = nn.Linear(784, 256)\n",
    "        # Output layer, 10 units - one for each digit\n",
    "        self.output = nn.Linear(256, 10)\n",
    "        \n",
    "        # Define sigmoid activation and softmax output \n",
    "        self.sigmoid = nn.Sigmoid()\n",
    "        self.softmax = nn.Softmax(dim=1)\n",
    "        \n",
    "    def forward(self, x):\n",
    "        # Pass the input tensor through each of our operations\n",
    "        x = self.hidden(x)\n",
    "        x = self.sigmoid(x)\n",
    "        x = self.output(x)\n",
    "        x = self.softmax(x)\n",
    "        \n",
    "        return x"
   ]
  },
  {
   "cell_type": "markdown",
   "metadata": {},
   "source": [
    "Let's go through this bit by bit.\n",
    "\n",
    "```python\n",
    "class Network(nn.Module):\n",
    "```\n",
    "\n",
    "Here we're inheriting from `nn.Module`. Combined with `super().__init__()` this creates a class that tracks the architecture and provides a lot of useful methods and attributes. It is mandatory to inherit from `nn.Module` when you're creating a class for your network. The name of the class itself can be anything.\n",
    "\n",
    "```python\n",
    "self.hidden = nn.Linear(784, 256)\n",
    "```\n",
    "\n",
    "This line creates a module for a linear transformation, $x\\mathbf{W} + b$, with 784 inputs and 256 outputs and assigns it to `self.hidden`. The module automatically creates the weight and bias tensors which we'll use in the `forward` method. You can access the weight and bias tensors once the network (`net`) is created with `net.hidden.weight` and `net.hidden.bias`.\n",
    "\n",
    "```python\n",
    "self.output = nn.Linear(256, 10)\n",
    "```\n",
    "\n",
    "Similarly, this creates another linear transformation with 256 inputs and 10 outputs.\n",
    "\n",
    "```python\n",
    "self.sigmoid = nn.Sigmoid()\n",
    "self.softmax = nn.Softmax(dim=1)\n",
    "```\n",
    "\n",
    "Here I defined operations for the sigmoid activation and softmax output. Setting `dim=1` in `nn.Softmax(dim=1)` calculates softmax across the columns.\n",
    "\n",
    "```python\n",
    "def forward(self, x):\n",
    "```\n",
    "\n",
    "PyTorch networks created with `nn.Module` must have a `forward` method defined. It takes in a tensor `x` and passes it through the operations you defined in the `__init__` method.\n",
    "\n",
    "```python\n",
    "x = self.hidden(x)\n",
    "x = self.sigmoid(x)\n",
    "x = self.output(x)\n",
    "x = self.softmax(x)\n",
    "```\n",
    "\n",
    "Here the input tensor `x` is passed through each operation and reassigned to `x`. We can see that the input tensor goes through the hidden layer, then a sigmoid function, then the output layer, and finally the softmax function. It doesn't matter what you name the variables here, as long as the inputs and outputs of the operations match the network architecture you want to build. The order in which you define things in the `__init__` method doesn't matter, but you'll need to sequence the operations correctly in the `forward` method.\n",
    "\n",
    "Now we can create a `Network` object."
   ]
  },
  {
   "cell_type": "code",
   "execution_count": 10,
   "metadata": {
    "collapsed": true
   },
   "outputs": [
    {
     "data": {
      "text/plain": [
       "Network(\n",
       "  (hidden): Linear(in_features=784, out_features=256, bias=True)\n",
       "  (output): Linear(in_features=256, out_features=10, bias=True)\n",
       "  (sigmoid): Sigmoid()\n",
       "  (softmax): Softmax(dim=1)\n",
       ")"
      ]
     },
     "execution_count": 10,
     "metadata": {},
     "output_type": "execute_result"
    }
   ],
   "source": [
    "# Create the network and look at its text representation\n",
    "model = Network()\n",
    "model"
   ]
  },
  {
   "cell_type": "markdown",
   "metadata": {},
   "source": [
    "You can define the network somewhat more concisely and clearly using the `torch.nn.functional` module. This is the most common way you'll see networks defined as many operations are simple element-wise functions. We normally import this module as `F`, `import torch.nn.functional as F`."
   ]
  },
  {
   "cell_type": "code",
   "execution_count": 11,
   "metadata": {
    "collapsed": true
   },
   "outputs": [],
   "source": [
    "import torch.nn.functional as F\n",
    "\n",
    "class Network(nn.Module):\n",
    "    def __init__(self):\n",
    "        super().__init__()\n",
    "        # Inputs to hidden layer linear transformation\n",
    "        self.hidden = nn.Linear(784, 256)\n",
    "        # Output layer, 10 units - one for each digit\n",
    "        self.output = nn.Linear(256, 10)\n",
    "        \n",
    "    def forward(self, x):\n",
    "        # Hidden layer with sigmoid activation\n",
    "        x = F.sigmoid(self.hidden(x))\n",
    "        # Output layer with softmax activation\n",
    "        x = F.softmax(self.output(x), dim=1)\n",
    "        \n",
    "        return x"
   ]
  },
  {
   "cell_type": "markdown",
   "metadata": {},
   "source": [
    "### Activation functions\n",
    "\n",
    "So far we've only been looking at the sigmoid activation function, but in general any function can be used as an activation function. The only requirement is that for a network to approximate a non-linear function, the activation functions must be non-linear. Here are a few more examples of common activation functions: Tanh (hyperbolic tangent), and ReLU (rectified linear unit).\n",
    "\n",
    "<img src=\"assets/activation.png\" width=700px>\n",
    "\n",
    "In practice, the ReLU function is used almost exclusively as the activation function for hidden layers."
   ]
  },
  {
   "cell_type": "markdown",
   "metadata": {},
   "source": [
    "### Your Turn to Build a Network\n",
    "\n",
    "<img src=\"assets/mlp_mnist.png\" width=600px>\n",
    "\n",
    "> **Exercise:** Create a network with 784 input units, a hidden layer with 128 units and a ReLU activation, then a hidden layer with 64 units and a ReLU activation, and finally an output layer with a softmax activation as shown above. You can use a ReLU activation with the `nn.ReLU` module or `F.relu` function.\n",
    "\n",
    "It's good practice to name your layers by their type of network, for instance 'fc' to represent a fully-connected layer. As you code your solution, use `fc1`, `fc2`, and `fc3` as your layer names."
   ]
  },
  {
   "cell_type": "code",
   "execution_count": 12,
   "metadata": {
    "collapsed": true,
    "scrolled": true
   },
   "outputs": [],
   "source": [
    "## Your solution here\n",
    "from torch import nn\n",
    "import torch.nn.functional as F\n",
    "\n",
    "class FCmodel(nn.Module):\n",
    "    def __init__(self):\n",
    "        super().__init__()\n",
    "        self.fc1 = nn.Linear(784, 128)\n",
    "        self.fc2 = nn.Linear(128, 64)\n",
    "        self.out = nn.Linear(64, 10)\n",
    "    \n",
    "    def forward(self, x):\n",
    "        x = F.relu(self.fc1(x))\n",
    "        x = F.relu(self.fc2(x))\n",
    "        y = F.softmax(self.out(x), dim=1) # only softmax for the columns\n",
    "        return y"
   ]
  },
  {
   "cell_type": "markdown",
   "metadata": {},
   "source": [
    "### Initializing weights and biases\n",
    "\n",
    "The weights and such are automatically initialized for you, but it's possible to customize how they are initialized. The weights and biases are tensors attached to the layer you defined, you can get them with `model.fc1.weight` for instance."
   ]
  },
  {
   "cell_type": "code",
   "execution_count": 13,
   "metadata": {
    "collapsed": true
   },
   "outputs": [
    {
     "name": "stdout",
     "output_type": "stream",
     "text": [
      "Parameter containing:\n",
      "tensor([[ 0.0019,  0.0005, -0.0266,  ...,  0.0021,  0.0257,  0.0180],\n",
      "        [-0.0291,  0.0194,  0.0033,  ..., -0.0058, -0.0152, -0.0074],\n",
      "        [-0.0255,  0.0141, -0.0173,  ..., -0.0066,  0.0269,  0.0035],\n",
      "        ...,\n",
      "        [-0.0114,  0.0222,  0.0197,  ...,  0.0243,  0.0304,  0.0111],\n",
      "        [-0.0090, -0.0345, -0.0355,  ..., -0.0130,  0.0239, -0.0339],\n",
      "        [ 0.0088,  0.0205,  0.0327,  ..., -0.0091,  0.0315,  0.0055]],\n",
      "       requires_grad=True)\n"
     ]
    }
   ],
   "source": [
    "model = FCmodel()\n",
    "print(model.fc1.weight)\n",
    "# print(model.fc1.bias)"
   ]
  },
  {
   "cell_type": "markdown",
   "metadata": {},
   "source": [
    "For custom initialization, we want to modify these tensors in place. These are actually autograd *Variables*, so we need to get back the actual tensors with `model.fc1.weight.data`. Once we have the tensors, we can fill them with zeros (for biases) or random normal values."
   ]
  },
  {
   "cell_type": "code",
   "execution_count": 14,
   "metadata": {
    "collapsed": true
   },
   "outputs": [
    {
     "data": {
      "text/plain": [
       "tensor([0., 0., 0., 0., 0., 0., 0., 0., 0., 0., 0., 0., 0., 0., 0., 0., 0., 0., 0., 0., 0., 0., 0., 0.,\n",
       "        0., 0., 0., 0., 0., 0., 0., 0., 0., 0., 0., 0., 0., 0., 0., 0., 0., 0., 0., 0., 0., 0., 0., 0.,\n",
       "        0., 0., 0., 0., 0., 0., 0., 0., 0., 0., 0., 0., 0., 0., 0., 0., 0., 0., 0., 0., 0., 0., 0., 0.,\n",
       "        0., 0., 0., 0., 0., 0., 0., 0., 0., 0., 0., 0., 0., 0., 0., 0., 0., 0., 0., 0., 0., 0., 0., 0.,\n",
       "        0., 0., 0., 0., 0., 0., 0., 0., 0., 0., 0., 0., 0., 0., 0., 0., 0., 0., 0., 0., 0., 0., 0., 0.,\n",
       "        0., 0., 0., 0., 0., 0., 0., 0.])"
      ]
     },
     "execution_count": 14,
     "metadata": {},
     "output_type": "execute_result"
    }
   ],
   "source": [
    "# Set biases to all zeros\n",
    "model.fc1.bias.data.fill_(0)"
   ]
  },
  {
   "cell_type": "code",
   "execution_count": 15,
   "metadata": {
    "collapsed": true
   },
   "outputs": [
    {
     "data": {
      "text/plain": [
       "tensor([[ 0.0013, -0.0097, -0.0107,  ...,  0.0088, -0.0066,  0.0040],\n",
       "        [-0.0093,  0.0021,  0.0107,  ...,  0.0003,  0.0007,  0.0027],\n",
       "        [ 0.0085, -0.0038,  0.0023,  ..., -0.0218, -0.0126,  0.0017],\n",
       "        ...,\n",
       "        [ 0.0034, -0.0230,  0.0046,  ...,  0.0049, -0.0056,  0.0109],\n",
       "        [-0.0020,  0.0027, -0.0104,  ...,  0.0089, -0.0030,  0.0080],\n",
       "        [ 0.0027,  0.0078, -0.0043,  ..., -0.0089,  0.0020,  0.0119]])"
      ]
     },
     "execution_count": 15,
     "metadata": {},
     "output_type": "execute_result"
    }
   ],
   "source": [
    "# sample from random normal with standard dev = 0.01\n",
    "model.fc1.weight.data.normal_(std=0.01)"
   ]
  },
  {
   "cell_type": "markdown",
   "metadata": {},
   "source": [
    "### Forward pass\n",
    "\n",
    "Now that we have a network, let's see what happens when we pass in an image."
   ]
  },
  {
   "cell_type": "code",
   "execution_count": 16,
   "metadata": {
    "collapsed": true
   },
   "outputs": [
    {
     "data": {
<<<<<<< Updated upstream
      "image/png": "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",
=======
      "image/png": "iVBORw0KGgoAAAANSUhEUgAAA1EAAAHXCAYAAABd89BGAAAAOXRFWHRTb2Z0d2FyZQBNYXRwbG90bGliIHZlcnNpb24zLjMuMywgaHR0cHM6Ly9tYXRwbG90bGliLm9yZy/Il7ecAAAACXBIWXMAABYlAAAWJQFJUiTwAAAw+klEQVR4nO3deZwlZ1kv8N+TleyQQBIIwrCFBMKWUXYxAUU0gmGJcgUEFDdUlAv3GhEFFCR4UQPiFZB9uSKggBhkUcMaFpkEIRAI2wAJgUBIQlYSMu/9o6qTpumeTFVO9zkn5/v9fM6npk+dp+o5NT3d5zdv1VvVWgsAAAA7ZqdpNwAAADBPhCgAAIABhCgAAIABhCgAAIABhCgAAIABhCgAAIABhCgAAIABhCgAAIABhCgAAIABhCgAAIABhCgAAIABhCgAAIABhCgAAIABhCgAYG5VVesfm6bdyyKoqq398T5qXvZbVc/sa1+1o9utqqP657eO65jrOyEKAJi6qtqzqn6rqt5eVV+tqkur6pKq+nJVvbmqHl1Ve0y7z42y7MP98sdVVXVeVX2gqp5cVXtOu89FVFXH9sHsqGn3wvTsMu0GAIDFVlUPTvLSJAcve/qSJNuSbOofD0/yvKp6TGvtPze6xym6JMnF/Z93S7J/kvv2jydU1dGttXOn1dyc+HaSzyU5Z0DNpX3N2ausOzbJY/s/v/e6NMb8MhIFAExNVT0uyVvTBajPJXlMkhu31vZure2b5IZJHpHuw+rNktxvGn1O0fNbawf3j/2T3DjJc5K0JHdIFz7Zjtbai1prh7XW/nBAzcf6mgesZ2/MLyEKAJiKqrpLkhen+zzyjiR3a629rrV23tJrWmsXttb+qbV2dJJHJrloOt3Ohtbaea21pyd5Zf/Uz1fVzabZEywiIQoAmJZnJ9k93SlTv9Rau2x7L26t/WOSv9qRDVfVzlX1M1X1kqraUlXfrKorqurrVfWWqrr/dmp3qqrHVdXJ/TVIV1bVt6rq01X1iqp60Co1t6qqv6uqM6vqsv6arq9U1Xur6g+r6sY70vcA/7Dsz0cu6+PqiTaq6vCqenVVfa1/D29d0fPdqup1/frvVdW3q+pdVfXwHWmgqm5RVS/r6y/vr197flXtt8brd6+q46rqNVX13/3+Lu+P0+uravM67XfNiSW2s48fmlhi6blccyrfM1Zet9a/7k/6rz9+Lft4fP+6r1WVz+RzxjVRAMCGq6pDkhzTf/nC1tqFO1LXWms7uIvD041uLflukiuS3DTdNS3HVtXTWmvPXaX2tUl+adnXFybZN92pdHfoH+9cWllVR6Y73XCf/qkr013LdIv+8RNJTlteMwHLr9XZd5X1P55ulG/PdKN331++sqp+Pcnf5Zr/UL8g3amTD0zywKp6XZLHtdauWmP/t03yxiQ3SXfNVkt37dpT0o2O3a+1tvIapJ/qa9K//oJ+eYt0x/sXqupXWmuvXWOfY/c7KVck+WaS/ZLcID94vdpyr0jyjCSbq+pOrbVPrbG9X+mXr26tbZt0s6wvqRcAmIajklT/539Zh+1fke7D7E8n2a+1tl9rbe8kByX54yRXJXlOVd1jeVFV3S/dB/qrkjw5yb6ttRum+9B8sySPS/LBFft6froA9dEkR7bWdmut3SjJXkl+LMmJ6YLYJN1i2Z8vWGX9/03yX0nu1F9btme6oJGquneuCVBvTvIjfb83TPL0dMHk0Um2dw3R89O9px9vre2T7r0em24Sh9smefUqNRcneWG669r2bq3t31rbI8kt0x2jXZK8tKpusUrtddnvRLTWTmmtHZzkH5d6WXa92sH9urTWzkryrv41j19tW1V1u3STg7Rcc2omc0SIAgCm4fB++b10E0pMVGvtzNbar7bW3t1a++6y589trT07ybPShbjfXFF6z375ntbaia21i/q61lo7p7X26tbaU9eo+b3W2mnL9nVpa+3jrbUnt9Y+PNE3mPxav9yWLiytdG6Sn2mtnb6s/y/26/4s3WfADyV5ZP+hP621i1trz0lyQv+6P6iq1Ua5ku40zJ9prX2wr93WWntbkl/o1/9UVd13eUFr7b2ttd9rrX2gtXbpsue/2lp7crrQe4OsETzG7ndK/r5fPrqqdl1l/dJ7fP+yvxfmiBAFAEzDAf3y/AGn6E3S2/vlfVY8vxS4DhxwncpSzU2vc1fbUVW7VdUdqupl6aZ8T5J/bK19a5WXv2i1a8yqav8kR/dfPneN0/Wel+TyJHsn+dk12nlja+0LK59srZ2c5JT+y0es/W5WtdbfyXrvdz28Pd2pfzdJ8nPLV/TfV7/cf/mKDe6LCRGiAIDrparao78p7Xur6tx+coWlCQCWRoxWzmz3H+lOBTwyyXuru8nvtc1+t3Tt1Wuq6oSquucaow9jPGNZz99L8ukkv9qv+0iSJ65Rt9bI193SjcC1JO9b7QX99Wlb+i+PXO012f79kZa2+0O1VbV/Vf1xVZ3ST9rx/WXv7y39y7Z3vEftd6O11r6fa04tXDmy9tNJDkkXvt+8kX0xOSaWAACmYWka8xtVVU16NKqqbpruA/ehy56+JMn56U6B2zndRBF7La9rrX2+qn4ryYvSTc7w4/32tqabGOKly0/Z6/2vJLdPcu8kf9A/Lq+qDyd5U5JXXdvMg9uxfPKCq9JdD3RGusDxhv7D+mpWG51KupGRJLmwtbbapAhLzlrx+pVWuwntynU/UFtVd0jyn+muS1tyUZLL0oW63ZIsXUt2bdve4f1O0cuS/O8kP1NVB7XWvtk/vzShxBuWn9bIfDESBQBMwxn9cvd0AWTSTkwXoL6U7tS3/fsb+B7YTwBwz7UKW2uvSHKrJL+f5G3pAt+mdNdPbamqp614/XnpJgn4qXQTJ5yWLhAcnW6Ch9Or6uYj38fyyQsOaa3dobX28P5+WmsFqKQLXNuz+8h+rotXpgtQpyZ5UJJ9Wmv7ttYO6v9OjutfV2ttYJ601j6fbnRsl3Q3kU5VHZDkIf1LnMo3x4QoAGAa3pdu9CG55kPlRFTVbkl+vv/yUa21f26tnb/iZQdlO1pr32ytvaC1dmy6kY27pxv9qSR/VlV3XvH61lr7937ihCPTjXL9RpLvJLl1kr++ru9rQpZGqPaoqu2N2CyFvrVGtLZ3yt3Suqtr+xn37p4u3D2ktfauVUbCtvt3Mma/M+Bl/XLplL5HpQvYn26tfXQ6LTEJQhQAsOH6GeGWriX63e3MAvcDqmpHRilunGtGWlaeerfkJ3dkf8nVAem/0o2UnJXu89N2Z4BrrZ3fWntpkqVRq5/Y0f2ts9NyTXg9erUX9DetXbrx7alrbGd772dp3fLaq0NZa22tU/J25O9k6H7Xw9I9nXbke/HN6aagv0M/nf5SmDKt+ZwTogCAaXl6uskSbp7k/1XVDbb34qr6hST/cwe2e1GuCQp3WmU7N03yu2vsY7e1NtrPZHdl/+Xu/et3qqrtXWN+2fLXT1tr7TtJTu6//IM1ZiD8g3RTjV+cH7xh8XK/WFW3Xvlkf5+tpdn13rRs1dJ9sg6qqgNXqbtTfvAGx2sZut/1sDQb4w2v7YWttcuTvK7/8i+T3DXd99D2bijMHBCiAICpaK19Islvpws8xyQ5rZ8Nb/+l11TVflX1sKo6Od1NTvfZge1elG7muiR5RVXdtd/WTlX1gHSnEq41ivDnVfXmqjp2RR8HVdUL010r1ZK8p1+1b5IvVNUfVdWdqmrnFft6Tv+6d2V2/HG60ZQjk7xh6Xqtqtq7v97r+P51Jyy/x9YKVyT5t/7GvUvv98G5Zra597TWPrTs9WekG8WrJP9YVbft63atqoelO57bm+hi7H7Xw6f75YP6QH5tlk7pWwp5/9paO3fybbGRhCgAYGpaay9P8rB0N4c9LN3/0J9XVRdV1XfTnQr1T0mOSvKVdLO77YgnpxsFulO6cHZxug/p/57uHlW/ukbdLukmonhL38eFfR/fyDWjV09fuolt75ZJnp3kk0kuq6rz0n3Y//d0o2xfyo6NoG2I1top6aZG35buFMWvVtV30h3r56QLOq/PNTfdXc1T082k96Gquijdsf2XdNePfSHJY1fsc1uSJ/X7PCrJ5/vjenG6v9/vpZvI49oM2u86eUu6a90OTXJWVZ1TVVv7GRx/SGvtv5N8fNlTJpS4HhCiAICpaq29Nd3kC7+d7vSxs9KFmV2SbE03yvBLSW7fWnv/Dm7zo0nuleSt6aY13zVdUHtJulOq/nuN0r9O92H/bUnOTBcodk/ytXQjYfdrrf35std/N93NVE9M8rF0kxrsk25q8v9K8kdJ7tpfAzYzWmsvSfJjSf5fknPS3Vj3wnQjQse11h69xo14l3whyY+mCwQXppsyfmu6U9Z+tLV2zir7fEuS+/f7uCjd38lXkjw/3f2rduQYDd7vpLXWvp3uerJ/Tvf3fZN0QfqW2yn75355TpJ/W9cG2RA1nZuEAwDAYqiq96SbOON5rbXjr+31zD4hCgAA1kl//deZ/ZeHtta+MM1+mAyn8wEAwDqoqr2T/E2600L/VYC6/jASBQAAE1RVv59uooyD011Td3mSza21z0yxLSbISBQAAEzWDdNNNHFVklOSPFCAun4xEgUAADCAkSgAAIABhCgAAIABdhlb+FM7Hec8QIAF955tb6pp9wAAG81IFAAAwABCFAAAwACjT+cDgHlWVV9Osm+SrVNuBYDp2JTku621Ww0tFKIAWFT77rHHHvsffvjh+0+7EQA23hlnnJHLLrtsVK0QBcCi2nr44Yfvv2XLlmn3AcAUbN68OaeeeurWMbWuiQIAABhAiAIAABhAiAIAABhAiAIAABhAiAIAABhAiAIAABhAiAIAABhAiAIAABhAiAIAABhAiAIAABhAiAIAABhAiAIAABhAiAIAABhAiAIAABhAiAIAABhgl2k3AADTcvrZF2bT8SdNu401bT3hmGm3AMAqjEQBAAAMIEQBAAAMIEQBAAAMIEQBAAAMIEQBAAAMIEQBAAAMIEQBAAAMIEQBMLOq82tV9dGquriqLqmqj1fVb1aV32EATIVfQADMstcleWmSTUn+IcnLkuyZ5O+SvGpqXQGw0HaZdgMAsJqqemiSX0ry5SR3b619u39+tyT/lOQxVfXW1to/T7FNABaQkSgAZtVD++VfLgWoJGmtXZHkj/svf2fDuwJg4QlRAMyqg/vll1ZZt/Tcj/cjUwCwYZzOB8CsWhp9utUq627dL3fp//zZtTZSVVvWWHXY+NYAWGRGogCYVSf1y/9ZVfsvPVlVuyZ51rLX3WhDuwJg4RmJAmBWvSHJY5L8dJLPVNXbklye5CeT3DTJV5PcIsm27W2ktbZ5tef7EaojJ9kwAIvBSBQAM6m1dlWSByc5Psm3kjy2f3w+yb2TXNS/9NypNAjAwjISBcDMaq1dmeR5/eNqVXWDJLdL8u3W2pen0RsAi8tIFADz6JFJdkt3A14A2FBCFAAzq6r2XeW5uyb5P0nOT3LCRvcEAE7nA2CWvaeqLktyerproA5PckySy5I8uLX29Wk2B8BiEqIAmGVvTnfq3qOT7JHk7CQvTfLc1tpZ02wMgMUlRAEws1pr/yfdqXsAMDNcEwUAADCAEAUAADCAEAUAADCAEAUAADCAEAUAADCA2fkAWFhHHLJftpxwzLTbAGDOGIkCAAAYQIgCAAAYQIgCAAAYQIgCAAAYQIgCAAAYQIgCAAAYwBTnACys08++MJuOP2nabVxtq+nWAeaCkSgAAIABhCgAAIABhCgAAIABhCgAAIABhCgAAIABhCgAAIABhCgAAIABhCgAZlpVHVNV766qs6rqsqr6UlW9qaruNe3eAFhMQhQAM6uqnpfkX5McmeSdSV6Q5NQkP5/kQ1X16Cm2B8CC2mXaDQDAaqrq4CRPTfLNJHdurZ27bN3RSf4zyZ8med10OgRgURmJAmBW3TLd76mPLg9QSdJaOznJRUluMo3GAFhsRqJgTtTmO46q++5t9xlVd85R20bV7X3wxYNrWqtR+9pop9/z9aPq7n7acaPq9nrhfoNr9vjieaP2ddUXvjyqbp19PskVSe5eVTdurX17aUVV3S/JPkneOqXeAFhgQhQAM6m19p2q+oMkf5XkM1X11iTnJblNkockeU+S37i27VTVljVWHTahVgFYMEIUADOrtXZiVW1N8ookv7Zs1ReSvGrlaX4AsBFcEwXAzKqq/53kzUlelW4Eaq8km5N8Kcnrq+ovrm0brbXNqz2SfHYdWwfgekyIAmAmVdVRSZ6X5F9aa/+ztfal1tqlrbVTkzw0ydlJnlJVt55imwAsICEKgFn1c/3y5JUrWmuXJvlYut9jd9vIpgBAiAJgVu3eL9eaxnzp+Ss2oBcAuJoQBcCs+kC//PWqOmT5iqr6mST3SXJ5klM2ujEAFpvZ+QCYVW9O8u9JfjLJGVX1liTfSHJ4ulP9KsnxrbVxN8cCgJGEKABmUmttW1X9bJLfTvLIdJNJ7JnkO0nekeSFrbV3T7FFABaUEAXAzGqtXZnkxP4BADPBNVEAAAADCFEAAAADCFEAAAADuCaK65Wd9tlnVN3l97794JqtDx33fxCvfuBLR9Vt2uWDo+puuvMeo+rG2ik1uGZb2jp0MnlXteHvLUmOu+Wpo+q2/MktB9d8+m2HjdrXzf7iy6PqAGARGYkCAAAYQIgCAAAYwOl8ACysIw7ZL1tOOGbabQAwZ4xEAQAADCBEAQAADCBEAQAADCBEAQAADCBEAQAADCBEAQAADGCKcwAW1ulnX5hNx5+04fvdalp1gLlmJAoAAGAAIQoAAGAAIQoAAGAA10Qxk7729HuPqvv9R711VN3j933vqLoxdkqNqtuWPSbcyfo4f9tlg2tOv2KfUfv6xvf3G1X3hycfN6rutq+7YlTdzh/9zKi6duV3BtfcLKeM2hcAsOOMRAEAAAwgRAEAAAwgRAEwk6rqcVXVruVx1bT7BGDxuCYKgFn1iSTPWmPdjye5f5J/27BuAKAnRAEwk1prn0gXpH5IVX24/+NLN6ofAFjidD4A5kpV3SnJPZOcneSkKbcDwAISogCYN7/eL1/eWnNNFAAbTogCYG5U1R5JHp3kqiQvm3I7ACwo10QBME9+IckNk5zUWvvajhRU1ZY1Vh02qaYAWCxGogCYJ0un8r1kql0AsNCMRAEwF6rqjknuneSsJO/Y0brW2uY1trclyZGT6Q6ARWIkCoB5YUIJAGaCEAXAzKuqGyR5TLoJJV4+5XYAWHBO52OH7HLwQaPqdv3Hcfv71G1fNKpuW9q4Hc6Be5/2P0bVXfipA0bV3eS0ccdyj29dMbhm55NPHbWvsQ7NxzZ0f9ff78oNdVySGyX51x2dUAIA1ouRKADmwdKpfC+dahcAECEKgBlXVYcnuW8GTigBAOvF6XwAzLTW2hlJatp9AMASI1EAAAADCFEAAAADCFEAAAADCFEAAAADCFEAAAADCFEAAAADmOIcgIV1xCH7ZcsJx0y7DQDmjJEoAACAAYQoAACAAZzOt4B2PmD/wTV7vfn7o/b1D7d6z6i6sXZKjao7/AOPG1yz5yl7j9rXQS88ZVTd/jlzZN3G2uWQmw2u2bbnnqP2te3SS0fVAQBcF0aiAAAABhCiAAAABhCiAAAABnBNFAAL6/SzL8ym40+ayr63mlodYG4ZiQIAABhAiAIAABhAiAIAABhAiAIAABhAiAIAABhAiAIAABhAiAJg5lXVA6rqLVX1jar6XlV9vareVVU/O+3eAFg87hMFwEyrqr9I8r+SnJXkX5J8O8lNkmxOclSSd0ytOQAWkhAFwMyqql9LF6BeneTXW2tXrFi/61QaA2ChCVEL6Mo73HJwzetv9bJR+9o2qip56Od/btz+nrjPqLpbf/6zg2valVdc+4sW0GeefvPBNbsfcMCofd3yFz41qo75UFW7J3lOkq9mlQCVJK21Kze8MQAWnhAFwKz6qXSn7Z2YZFtVHZPkiCSXJ/lYa+3DU+wNgAUmRAEwq36sX16e5LR0AepqVfX+JI9orX1roxsDYLEJUQDMqgP75f9K8pkkP57kE0luleT5SR6Y5E3pJpdYU1VtWWPVYZNoEoDFY4pzAGbV0u+o7yd5SGvtg621i1trn0ry0HSz9f1EVd1rah0CsJCMRAEwqy7ol6e11rYuX9Fau7Sq3pXkV5PcPcma10e11jav9nw/QnXkRDoFYKEYiQJgVn2uX16wxvrz++Ue698KAFxDiAJgVv1HkpbkDlW12u+rpYkmvrxxLQGAEAXAjGqtfSXJ25PcIsnvLV9XVQ9M8tPpRqneueHNAbDQXBMFwCz77SR3S/JX/X2iTks3O9+xSa5K8oTW2oXTaw+ARSREATCzWmtnVdXmJH+S5CFJ7pfku+lGqJ7bWvvYNPsDYDEJUQDMtP5mur/bPwBg6lwTBQAAMIAQBQAAMIDT+RbQ1gffYMP2de/T/seouv1/7syRezxnZB0rffm59xpV94WH/O3gmmd/+4hrf9EqTsluo+oAAK4LI1EAAAADCFEAAAADCFEAAAADuCYKgIV1xCH7ZcsJx0y7DQDmjJEoAACAAYQoAACAAYQoAACAAYQoAACAAYQoAACAAYQoAACAAUxxDsDCOv3sC7Pp+JOm3cbVtppuHWAuGIkCAAAYQIgCAAAYwOl8C+jAO39zcM2nr/j+uH39xsWj6sbtjdV8//6bR9W97pEvHLnHnQdXvPEfjxq1p5vnlFF1AADXhZEoAACAAYQoAACAAYQoAACAAYQoAACAAYQoAGZWVW2tqrbG4xvT7g+AxWR2PgBm3YVJTlzl+XHTfwLAdSREATDrLmitPXPaTQDAEqfzAQAADGAkCoBZt3tVPTrJLZJckuSTSd7fWrtqum0BsKiEKABm3cFJXrviuS9X1eNba++7tuKq2rLGqsOuc2cALCSn8wEwy16Z5AHpgtReSe6U5CVJNiX5t6q6y/RaA2BRGYkCYGa11p614qnTk/xmVV2c5ClJnpnkodeyjc2rPd+PUB05gTYBWDBGogCYRy/ul/ebahcALCQjUQvovI8dNLjmoDtcOWpfF9znFqPq9n7j10fVXZ/V5juOqjvgT7eOqtu8286j6u78kccMrrn5n58yal8stG/1y72m2gUAC8lIFADz6J798ktT7QKAhSREATCTqurwqvqhkaaq2pTkRf2Xr9vQpgAgTucDYHb9YpKnVNX7k3wlyUVJbpPkmCQ3SPKOJM+fXnsALCohCoBZdXKS2ye5W5L7pLv+6YIkH0x336jXttba1LoDYGEJUQDMpP5Gutd6M10A2GiuiQIAABhAiAIAABhAiAIAABhAiAIAABhAiAIAABjA7HwALKwjDtkvW044ZtptADBnjEQBAAAMYCRqAf3Iey4fXHPjX91j1L7e/Pznj6r7lc8+YVTdtk9+dlTdRjr3ifceVfeTT/jwqLo/P+jjo+qedu7mUXW3eNxXB9dsG7UnAIDpMBIFAAAwgBAFAAAwgBAFAAAwgBAFAAAwgIklAFhYp599YTYdf9K027jaVtOtA8wFI1EAAAADCFEAAAADCFEAAAADCFEAAAADCFEAAAADCFEAAAADCFEAAAADCFEAzI2qenRVtf7xhGn3A8BicrPdBbTrORcMrjnp0v1G7euYPUeV5UVvf9moukc97amj6m70lk8OrrnsJ+44al+v/t9/Naru8F13HVV3/Dd+bFTdaX945Ki6XS/6+Kg6uDZV9SNJXpTk4iR7T7kdABaYkSgAZl5VVZJXJjkvyYun3A4AC06IAmAePCnJ/ZM8PsklU+4FgAUnRAEw06rq8CQnJHlBa+390+4HAFwTBcDMqqpdkrw2yVeTPG3kNrasseqwsX0BsNiEKABm2Z8kuVuS+7bWLpt2MwCQCFEAzKiquke60ae/bK19eOx2Wmub19j+liTjpqEEYKG5JgqAmdOfxveaJGcm+eMptwMAP0CIAmAW7Z3k0CSHJ7l82Q12W5Jn9K/5+/65E6fVJACLyel8AMyi7yV5+Rrrjkx3ndQHk3wuyehT/QBgDCEKgJnTTyLxhNXWVdUz04WoV7fWXraRfQFA4nQ+AACAQYQoAACAAYQoAOZKa+2ZrbVyKh8A0+KaqAV01Re+PLjmxb/00FH72vMf3jCq7gF71Ki6D/zF346qe8ZT7za45lkHvnjUvnbKbqPqjvviT4+qu/TJB46q23XLx0fVAQBc3xmJAgAAGECIAgAAGECIAgAAGECIAgAAGMDEEgAsrCMO2S9bTjhm2m0AMGeMRAEAAAwgRAEAAAwgRAEAAAwgRAEAAAwgRAEAAAwgRAEAAAxginMAFtbpZ1+YTcefNNUetppiHWDuGIkCAAAYwEgUO6T916dG1T3xo48eVfe5o14+qm6n1Ki6PzvwEyOqxu1rrK+++raj6g7Y8uEJdwIAsNiMRAEAAAwgRAEAAAwgRAEAAAwgRAEAAAwgRAEAAAwgRAEws6rqeVX1H1X1taq6rKq+U1WnVdUzquqAafcHwGISogCYZU9OsleS9yR5QZLXJ/l+kmcm+WRV/cj0WgNgUblPFACzbN/W2uUrn6yq5yR5WpI/TPLEDe8KgIVmJAqAmbVagOq9sV/ebqN6AYAlQhQA8+jB/fKTU+0CgIXkdD4AZl5VPTXJ3kn2S/KjSe6bLkCdsAO1W9ZYddjEGgRgoQhRAMyDpyY5aNnX70zyuNbat6bUDwALTIgCYOa11g5Okqo6KMm9041AnVZVP9daO/Vaajev9nw/QnXkpHsF4PpPiFpAO9/2VoNrtr30ilH7+sjtXjSqLtljVNW2tJH72zg7pUbVnXf374+qu8kb9xlVt+2ii0bVwXpqrX0zyVuq6tQkZyZ5TZIjptsVAIvGxBIAzJ3W2leSfCbJHavqxtPuB4DFIkQBMK9u1i+vmmoXACwcIQqAmVRVh1bVfqs8v1N/s90Dk5zSWjt/47sDYJG5JgqAWfWzSZ5bVR9M8uUk56Wboe8nktw6yTeS/Nr02gNgUQlRAMyqf09y23T3hLpbkhsmuSTdhBKvTfLC1tp3ptYdAAtLiAJgJrXWTk/yO9PuAwBWck0UAADAAEIUAADAAEIUAADAAEIUAADAAEIUAADAAGbnA2BhHXHIftlywjHTbgOAOWMkCgAAYAAjUXPskoffY1TdLz/77YNrHr/v10btK7nBqKozr7x8VN3Pnvy7o+ryvZ0Hl/zyvT40ale/eaOPjqo78+dePKruHp8Yd5udm/zdh0fVAQBc3xmJAgAAGECIAgAAGECIAgAAGECIAgAAGMDEEgAsrNPPvjCbjj9p2m38kK2mXQeYaUaiAAAABhCiAAAABhCiAAAABhCiAAAABhCiAAAABhCiAAAABhCiAAAABnCfqDn2rL942ai6+93gigl3srZf/OKDRtV973F7jao79EtbRtWN8ZHsOqrun/75N0bVnXaP14yqO/8uV42qu8moKpicqjogyUOTHJPkTkkOSXJFkk8leWWSV7bWtk2vQwAWlRAFwKw6LsnfJTknyclJvprkoCQPS/KyJD9TVce11tr0WgRgEQlRAMyqM5M8JMlJy0ecquppST6W5OHpAtU/Tac9ABaVa6IAmEmttf9srb195Sl7rbVvJHlx/+VRG94YAAtPiAJgHl3ZL78/1S4AWEhO5wNgrlTVLkl+uf/ynTvw+rVmnDlsYk0BsFCMRAEwb05IckSSd7TW3jXtZgBYPEaiAJgbVfWkJE9J8tkkj9mRmtba5jW2tSXJkZPrDoBFYSQKgLlQVb+T5AVJPpPk6Nbad6bcEgALSogCYOZV1e8n+Zskp6cLUN+YbkcALDIhCoCZVlV/kOSvk3wiXYA6d7odAbDohCgAZlZV/XG6iSS2JHlAa+3bU24JAEwsAcBsqqrHJvnTJFcl+UCSJ1XVypdtba29aoNbA2DBCVEAzKpb9cudk/z+Gq95X5JXbUQzALBEiJpjLznnqFF1H9737ME1H7jzDUbtK/nWBtdtnG//+r1G1T39jm8YVbdTfuh/4HfI7t/0z5z51Fp7ZpJnTrkNAPghrokCAAAYQIgCAAAYQIgCAAAYQIgCAAAYQIgCAAAYwLRdACysIw7ZL1tOOGbabQAwZ4xEAQAADCBEAQAADCBEAQAADCBEAQAADCBEAQAADCBEAQAADGCKcwAW1ulnX5hNx5807Tay1TTrAHNFiJpj/3Cr94yq+8j3hte8/MW/OWpfB79v3GDn3meNaDLJFx+x+6i6Q+/0tcE177rd80ft60Y77TGq7s4fecyouk3P/vioujaqCgDg+s/pfAAAAAMIUQAAAAMIUQAAAAMIUQAAAAMIUQAAAAMIUQAAAAMIUQDMpKp6RFX9TVV9oKq+W1Wtql437b4AwH2iAJhVT09ylyQXJzkryWHTbQcAOkaiAJhVT05yaJJ9k/zWlHsBgKsZiQJgJrXWTl76c1VNsxUA+AFGogAAAAYwEgXA9VpVbVljlWusABjFSBQAAMAARqLm2L0+8Yuj6j501zcMrjnzwX83al958LiynTLu+odtaeN2OMoNRlXd95PHjaq75dO+N6ruqiuvGFUH1xettc2rPd+PUB25we0AcD1gJAoAAGAAIQoAAGAAIQoAAGAAIQoAAGAAE0sAMJOq6tgkx/ZfHtwv71VVr+r//O3W2lM3uC0AEKIAmFl3TfLYFc/dun8kyVeSCFEAbDin8wEwk1prz2yt1XYem6bdIwCLSYgCAAAYQIgCAAAYQIgCAAAYQIgCAAAYQIgCAAAYwBTnACysIw7ZL1tOOGbabQAwZ4SoOXaTX79kVN2hf/Rbg2uedf9/HrWv/7HPN0fVjfX0czePqvvXL91xcM0u799v1L4OfsEpo+quGlUFAMCkOZ0PAABgACEKAABgACEKAABgACEKAABgACEKAABgALPzAbCwTj/7wmw6/qRpt3G1raZbB5gLRqIAAAAGEKIAAAAGEKIAAAAGEKIAAAAGEKIAAAAGEKIAAAAGEKIAAAAGcJ+oOfb9s78+qu7QJw6ve31uPmpfY+s22s3z6Wm3AKyiqm6e5E+TPCjJAUnOSfLWJM9qrZ0/xdYAWGBCFAAzqapuk+SUJAcmeVuSzya5e5LfS/KgqrpPa+28KbYIwIJyOh8As+r/pgtQT2qtHdtaO761dv8kf53k9kmeM9XuAFhYQhQAM6cfhXpgkq1J/nbF6mckuSTJY6pqrw1uDQCEKABm0tH98t2ttW3LV7TWLkryoSR7JrnnRjcGAK6JAmAW3b5fnrnG+s+nG6k6NMl/bG9DVbVljVWHjWsNgEVnJAqAWbRfv7xwjfVLz99w/VsBgB9kJAqA67XW2ubVnu9HqI7c4HYAuB4wEgXALFoaadpvjfVLz1+w/q0AwA8SogCYRZ/rl4eusf52/XKta6YAYN0IUQDMopP75QOr6gd+V1XVPknuk+TSJB/Z6MYAQIgCYOa01r6Y5N1JNiX57RWrn5VkrySvba1dssGtAYCJJQCYWU9MckqSF1bVA5KckeQe6e4hdWaSP5pibwAsMCNRAMykfjTqR5O8Kl14ekqS2yR5QZJ7ttbOm153ACwyI1EAzKzW2teSPH7afQDAckaiAAAABhCiAAAABhCiAAAABhCiAAAABhCiAAAABjA7HwAL64hD9suWE46ZdhsAzBkjUQAAAAMIUQAAAAMIUQAAAAMIUQAAAAMIUQAAAAMIUQAAAAMIUQAAAAMIUQAAAAMIUQAAAAMIUQAAAAMIUQAAAAMIUQAAAAMIUQAAAAMIUQAAAAMIUQAAAAMIUQAAAAPsMu0GAGBKNp1xxhnZvHnztPsAYArOOOOMJNk0plaIAmBR7X3ZZZdddeqpp/73tBuZMYf1y89OtYvZ47iszbFZneOyulk6LpuSfHdMoRAFwKI6PUlaa4ailqmqLYnjspLjsjbHZnWOy+quL8fFNVEAAAADjB6Jes+2N9UkGwEAAJgHRqIAAAAGEKIAAAAGEKIAAAAGqNbatHsAAACYG0aiAAAABhCiAAAABhCiAAAABhCiAAAABhCiAAAABhCiAAAABhCiAAAABhCiALheqKqbV9UrqurrVfW9qtpaVSdW1Y0Gbmf/vm5rv52v99u9+Xr1vt6u67Gpqr2q6lFV9f+q6rNVdUlVXVRVH6+qp1TVbuv9HtbDpL5nVmzzflV1VVW1qnr2JPvdKJM8LlV1ZP99c1a/rW9W1fuq6pfXo/f1NMGfMfetqrf19ZdX1Ver6h1V9aD16n29VNUjqupvquoDVfXd/vv+dSO3NfF/j+vJzXYBmHtVdZskpyQ5MMnbknw2yd2THJ3kc0nu01o7bwe2c0C/nUOT/GeS/0pyWJKfT3Juknu11r60Hu9hvUzi2PQf7v4tyXeSnJzkC0lulOQhSQ7ut/+A1trl6/Q2Jm5S3zMrtrlPkk8muXGSvZM8p7X29En2vd4meVyq6neSvCDJ+UlOSnJ2kv2THJHkrNbaIyf+BtbJBH/G/FaS/5vkkiRvSXJWkpsneViSPZM8vbX2nPV4D+uhqj6R5C5JLk73Xg5L8vrW2qMHbmfi/x7XXWvNw8PDw8Njrh9J3pWkJfndFc//Vf/8i3dwOy/pX/+XK55/Uv/8O6f9XqdxbJLcNcmjkuy24vl9kmzpt/OUab/XaXzPrKh9Rbqg+bR+G8+e9vuc1nFJ8sAk2/rt7bPK+l2n/V43+rgk2TXJBUkuS3L7FesOT3J5kkuT7D7t9zvguByd5HZJKslR/bF43bS+7zbyYSQKgLnW/w/mF5JsTXKb1tq2Zev2SXJOul/wB7bWLtnOdvZON9q0LclNW2sXLVu3U5IvJbllv4+5GI2a1LG5ln38UpLXJ/nX1tqDr3PTG2A9jktV/XyStyZ5TJJdkrwyczYSNcnjUlX/neS2SW7RZm0EYaAJ/ow5KMk3knyytXaXVdZ/Msmdktx4Ho9ZVR2VbqR60EjURvycWg+uiQJg3h3dL9+9/JdvkvRB6EPpTpO557Vs555J9kjyoeUBqt/O0v+oL9/fPJjUsdmeK/vl96/DNjbaRI9LVR2Y5O+TvLW1Nup6kBkxkeNSVUckuXOSdyf5TlUdXVVP7a+fe0D/nxLzZFLfL+cm+VaSQ6vqdstXVNWh6UZ0PjGPAeo62oifUxM3b9/EALDS7fvlmWus/3y/PHSDtjNLNuI9/Uq/fOd12MZGm/Rx+ft0n6l+87o0NQMmdVx+rF+em+S96a4v/D9Jnp/k35N8oqpuO77NDTeR49K6079+O933ypaqenVVPbeqXpPutNhPJzluAv3Om7n82bvLtBsAgOtov3554Rrrl56/4QZtZ5as63vqJw54UJJPpLseaF5M7LhU1a+km2DjF1tr37zurU3VpI7Lgf3yV9NNJnFMkg8mOSjJnyR5dJKTqupOrbUrRne7cSb2/dJae1NVfT3JPyRZPkPhN9OdAjoXpwpP2Fz+7DUSBQAMVlUPS3Jiums8Ht5au3L7Fdc/VbUp3TF4U2vtjdPtZqYsfb7cOckjW2vvaK19t7X2+XTB4ePpRhUePq0Gp6WqHp1uNO4D6SaT2LNf/keSFyV5w/S6YwghCoB5t/S/lPutsX7p+Qs2aDuzZF3eU1Udm+7D3rlJjpqXiTaWmdRxeUW6mdaeOIGeZsGkjsvS+m+01j68fEV/Stvb+i/vPrC/aZnIcemve3pFutP2HtNa+2xr7bLW2mfTTUiyJclx/QQNi2Quf/YKUQDMu8/1y7XOl1+6gHut8+0nvZ1ZMvH3VFXHJXlTutOPfqK19rlrKZlFkzouR6Y7de1b/U1GW1W1dKdlJckf9c+99Tp1u3Em/W/pgjXWn98v99ixtqZuUsflgemmOX/fKhMobEvy/v7LzWOanGNz+bPXNVEAzLuT++UDq2qnVabHvU+6e6985Fq285F0owr3qap9Vpni/IEr9jcPJnVslmoeleTV6a5zOXoOR6CWTOq4vCbd6Vgr3S7J/dJdK7YlyWnXteENMsl/S5ck2VRVe60yLfUR/fLLE+h5I0zquOzeL2+yxvql5+fhOrFJmujPqY1iJAqAudZa+2K6qZQ3pZv5arlnJdkryWuXf5CrqsOq6rAV27k4yWv71z9zxXZ+p9/+u+YpOEzq2PTPPzZdaPhqkvvN03FYaYLfM09qrT1h5SPXjESd1D/3t+v2ZiZogsfl0iQvT3KDJM+uqlr2+jsleVy6KfHfPPl3MXkT/Hf0gX75iKq68/IVVXXXJI9Id2PZ/5xY8zOkqnbtj8ttlj8/5vjOAjfbBWDu9b+UT0l3atXbkpyR5B7p7j9yZpJ7L7/3Sn/KVVprtWI7B/TbOTTdB5mPpbvo++fTXf9z7/4X/tyYxLGpqqPTXQy/U7prOr62yq4uaK2duD7vYvIm9T2zxrYflzm82W4y0X9L+yZ5X5K7Jvlounv9HJTkYelO4/v91toL1vntTMwEj8srkjw+3WjTW5J8JV14ODbJbklObK09eX3fzeT010ce2395cJKfTjfD4FJg/HZr7an9azelG338Smtt04rtDDq+s0CIAuB6oap+JMmfppty+4B0d7l/S5JntdbOX/HaNT8QV9X+SZ6R7oPBTZOcl+TfkvxJa+2sdXwL6+a6HptloWB7fuiD0ayb1PfMKtt9XOY0RCUT/be0d5I/THfvo1umO132Y0me31p793q+h/UwiePSj8o9Nt1o3F2S7JPku+lO+fz71tpczc5XVc9M9/NyLVf/XNheiOrX7/DxnQVCFAAAwACuiQIAABhAiAIAABhAiAIAABhAiAIAABhAiAIAABhAiAIAABhAiAIAABhAiAIAABhAiAIAABhAiAIAABhAiAIAABhAiAIAABhAiAIAABhAiAIAABhAiAIAABhAiAIAABhAiAIAABjg/wOOr0PY/7HoAgAAAABJRU5ErkJggg==",
>>>>>>> Stashed changes
      "text/plain": [
       "<Figure size 432x648 with 2 Axes>"
      ]
     },
     "metadata": {
      "image/png": {
       "height": 235,
       "width": 424
      },
      "needs_background": "light"
     },
     "output_type": "display_data"
    }
   ],
   "source": [
    "# Grab some data \n",
    "dataiter = iter(trainloader)\n",
    "images, labels = dataiter.next()\n",
    "\n",
    "# Resize images into a 1D vector, new shape is (batch size, color channels, image pixels) \n",
    "images.resize_(64, 1, 784)\n",
    "# or images.resize_(images.shape[0], 1, 784) to automatically get batch size\n",
    "\n",
    "# Forward pass through the network\n",
    "img_idx = 0\n",
    "ps = model.forward(images[img_idx,...]) # or [img_idx,:]\n",
    "\n",
    "img = images[img_idx]\n",
    "helper.view_classify(img.view(1, 28, 28), ps, version='MNIST')"
   ]
  },
  {
   "cell_type": "markdown",
   "metadata": {},
   "source": [
    "As you can see above, our network has basically no idea what this digit is. It's because we haven't trained it yet, all the weights are random!\n",
    "\n",
    "### Using `nn.Sequential`\n",
    "\n",
    "PyTorch provides a convenient way to build networks like this where a tensor is passed sequentially through operations, `nn.Sequential` ([documentation](https://pytorch.org/docs/master/nn.html#torch.nn.Sequential)). Using this to build the equivalent network:"
   ]
  },
  {
   "cell_type": "code",
   "execution_count": 17,
   "metadata": {
    "collapsed": true
   },
   "outputs": [
    {
     "name": "stdout",
     "output_type": "stream",
     "text": [
      "Sequential(\n",
      "  (0): Linear(in_features=784, out_features=128, bias=True)\n",
      "  (1): ReLU()\n",
      "  (2): Linear(in_features=128, out_features=64, bias=True)\n",
      "  (3): ReLU()\n",
      "  (4): Linear(in_features=64, out_features=10, bias=True)\n",
      "  (5): Softmax(dim=1)\n",
      ")\n"
     ]
    },
    {
     "data": {
<<<<<<< Updated upstream
      "image/png": "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",
=======
      "image/png": "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",
>>>>>>> Stashed changes
      "text/plain": [
       "<Figure size 432x648 with 2 Axes>"
      ]
     },
     "metadata": {
      "image/png": {
       "height": 235,
       "width": 424
      },
      "needs_background": "light"
     },
     "output_type": "display_data"
    }
   ],
   "source": [
    "# Hyperparameters for our network\n",
    "input_size = 784\n",
    "hidden_sizes = [128, 64]\n",
    "output_size = 10\n",
    "\n",
    "# Build a feed-forward network\n",
    "model = nn.Sequential(nn.Linear(input_size, hidden_sizes[0]),\n",
    "                      nn.ReLU(),\n",
    "                      nn.Linear(hidden_sizes[0], hidden_sizes[1]),\n",
    "                      nn.ReLU(),\n",
    "                      nn.Linear(hidden_sizes[1], output_size),\n",
    "                      nn.Softmax(dim=1))\n",
    "print(model)\n",
    "\n",
    "# Forward pass through the network and display output\n",
    "images, labels = next(iter(trainloader))\n",
    "images.resize_(images.shape[0], 1, 784)\n",
    "ps = model.forward(images[0,:])\n",
    "helper.view_classify(images[0].view(1, 28, 28), ps)"
   ]
  },
  {
   "cell_type": "markdown",
   "metadata": {},
   "source": [
    "Here our model is the same as before: 784 input units, a hidden layer with 128 units, ReLU activation, 64 unit hidden layer, another ReLU, then the output layer with 10 units, and the softmax output.\n",
    "\n",
    "The operations are available by passing in the appropriate index. For example, if you want to get first Linear operation and look at the weights, you'd use `model[0]`."
   ]
  },
  {
   "cell_type": "code",
   "execution_count": 18,
   "metadata": {},
   "outputs": [
    {
     "name": "stdout",
     "output_type": "stream",
     "text": [
      "----------------------------------------------------------------\n",
      "        Layer (type)               Output Shape         Param #\n",
      "================================================================\n",
      "            Linear-1               [-1, 1, 128]         100,480\n",
      "              ReLU-2               [-1, 1, 128]               0\n",
      "            Linear-3                [-1, 1, 64]           8,256\n",
      "              ReLU-4                [-1, 1, 64]               0\n",
      "            Linear-5                [-1, 1, 10]             650\n",
      "           Softmax-6                [-1, 1, 10]               0\n",
      "================================================================\n",
      "Total params: 109,386\n",
      "Trainable params: 109,386\n",
      "Non-trainable params: 0\n",
      "----------------------------------------------------------------\n",
      "Input size (MB): 0.00\n",
      "Forward/backward pass size (MB): 0.00\n",
      "Params size (MB): 0.42\n",
      "Estimated Total Size (MB): 0.42\n",
      "----------------------------------------------------------------\n"
     ]
    }
   ],
   "source": [
    "from torchsummary import summary\n",
    "summary(model, input_size=(1,784), batch_size=-1,device='cpu')"
   ]
  },
  {
   "cell_type": "code",
   "execution_count": 19,
   "metadata": {
    "collapsed": true
   },
   "outputs": [
    {
     "name": "stdout",
     "output_type": "stream",
     "text": [
      "Linear(in_features=784, out_features=128, bias=True)\n"
     ]
    },
    {
     "data": {
      "text/plain": [
       "Parameter containing:\n",
       "tensor([[ 0.0211, -0.0246,  0.0001,  ..., -0.0117, -0.0044,  0.0083],\n",
       "        [ 0.0116,  0.0183,  0.0023,  ...,  0.0113,  0.0277, -0.0340],\n",
       "        [ 0.0052,  0.0077,  0.0205,  ..., -0.0171,  0.0280,  0.0293],\n",
       "        ...,\n",
       "        [ 0.0080,  0.0009,  0.0315,  ...,  0.0104, -0.0079, -0.0269],\n",
       "        [-0.0266,  0.0118,  0.0093,  ...,  0.0250, -0.0121,  0.0186],\n",
       "        [-0.0325,  0.0231, -0.0201,  ..., -0.0352,  0.0050,  0.0256]],\n",
       "       requires_grad=True)"
      ]
     },
     "execution_count": 19,
     "metadata": {},
     "output_type": "execute_result"
    }
   ],
   "source": [
    "print(model[0])\n",
    "model[0].weight"
   ]
  },
  {
   "cell_type": "markdown",
   "metadata": {},
   "source": [
    "You can also pass in an `OrderedDict` to name the individual layers and operations, instead of using incremental integers. Note that dictionary keys must be unique, so _each operation must have a different name_."
   ]
  },
  {
   "cell_type": "code",
   "execution_count": 20,
   "metadata": {
    "collapsed": true
   },
   "outputs": [
    {
     "data": {
      "text/plain": [
       "Sequential(\n",
       "  (fc1): Linear(in_features=784, out_features=128, bias=True)\n",
       "  (relu1): ReLU()\n",
       "  (fc2): Linear(in_features=128, out_features=64, bias=True)\n",
       "  (relu2): ReLU()\n",
       "  (output): Linear(in_features=64, out_features=10, bias=True)\n",
       "  (softmax): Softmax(dim=1)\n",
       ")"
      ]
     },
     "execution_count": 20,
     "metadata": {},
     "output_type": "execute_result"
    }
   ],
   "source": [
    "from collections import OrderedDict\n",
    "model = nn.Sequential(OrderedDict([\n",
    "                      ('fc1', nn.Linear(input_size, hidden_sizes[0])),\n",
    "                      ('relu1', nn.ReLU()),\n",
    "                      ('fc2', nn.Linear(hidden_sizes[0], hidden_sizes[1])),\n",
    "                      ('relu2', nn.ReLU()),\n",
    "                      ('output', nn.Linear(hidden_sizes[1], output_size)),\n",
    "                      ('softmax', nn.Softmax(dim=1))]))\n",
    "model"
   ]
  },
  {
   "cell_type": "markdown",
   "metadata": {},
   "source": [
    "Now you can access layers either by integer or the name"
   ]
  },
  {
   "cell_type": "code",
   "execution_count": 22,
   "metadata": {
    "collapsed": true
   },
   "outputs": [
    {
     "name": "stdout",
     "output_type": "stream",
     "text": [
      "Linear(in_features=784, out_features=128, bias=True)\n",
      "Linear(in_features=784, out_features=128, bias=True)\n",
      "----------------------------------------------------------------\n",
      "        Layer (type)               Output Shape         Param #\n",
      "================================================================\n",
      "            Linear-1               [-1, 1, 128]         100,480\n",
      "              ReLU-2               [-1, 1, 128]               0\n",
      "            Linear-3                [-1, 1, 64]           8,256\n",
      "              ReLU-4                [-1, 1, 64]               0\n",
      "            Linear-5                [-1, 1, 10]             650\n",
      "           Softmax-6                [-1, 1, 10]               0\n",
      "================================================================\n",
      "Total params: 109,386\n",
      "Trainable params: 109,386\n",
      "Non-trainable params: 0\n",
      "----------------------------------------------------------------\n",
      "Input size (MB): 0.00\n",
      "Forward/backward pass size (MB): 0.00\n",
      "Params size (MB): 0.42\n",
      "Estimated Total Size (MB): 0.42\n",
      "----------------------------------------------------------------\n"
     ]
    }
   ],
   "source": [
    "print(model[0])\n",
    "print(model.fc1)\n",
    "from torchsummary import summary\n",
    "summary(model, input_size=(1,784), batch_size=-1,device='cpu')"
   ]
  },
  {
   "cell_type": "markdown",
   "metadata": {},
   "source": [
    "In the next notebook, we'll see how we can train a neural network to accuractly predict the numbers appearing in the MNIST images."
   ]
  }
 ],
 "metadata": {
  "kernelspec": {
   "display_name": "Python 3 (ipykernel)",
   "language": "python",
   "name": "python3"
  },
  "language_info": {
   "codemirror_mode": {
    "name": "ipython",
    "version": 3
   },
   "file_extension": ".py",
   "mimetype": "text/x-python",
   "name": "python",
   "nbconvert_exporter": "python",
   "pygments_lexer": "ipython3",
   "version": "3.8.11"
  }
 },
 "nbformat": 4,
 "nbformat_minor": 2
}
